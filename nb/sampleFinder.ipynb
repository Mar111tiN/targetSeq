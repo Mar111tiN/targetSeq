{
 "cells": [
  {
   "cell_type": "code",
   "execution_count": 69,
   "metadata": {
    "ExecuteTime": {
     "end_time": "2019-09-20T10:06:50.017027Z",
     "start_time": "2019-09-20T10:06:49.834678Z"
    }
   },
   "outputs": [
    {
     "name": "stdout",
     "output_type": "stream",
     "text": [
      "\u001b[34mFDAH\u001b[m\u001b[m/               \u001b[34mfastQC\u001b[m\u001b[m/             \u001b[34mmapped\u001b[m\u001b[m/             sample_sheet.csv\r\n",
      "\u001b[34mannovar\u001b[m\u001b[m/            \u001b[34mfastq\u001b[m\u001b[m/              \u001b[34mpileup\u001b[m\u001b[m/             sample_sheet1.csv\r\n",
      "config.yaml         \u001b[34mfastq2\u001b[m\u001b[m/             \u001b[34mrealigned\u001b[m\u001b[m/          \u001b[34msheet1\u001b[m\u001b[m/\r\n",
      "\u001b[34mcoverBED\u001b[m\u001b[m/           \u001b[34mfiltered\u001b[m\u001b[m/           \u001b[34mrecalib\u001b[m\u001b[m/            \u001b[34mvarscan\u001b[m\u001b[m/\r\n",
      "\u001b[34mdeduped\u001b[m\u001b[m/            \u001b[34mlogs\u001b[m\u001b[m/               sampleFinder.ipynb\r\n"
     ]
    }
   ],
   "source": [
    "ls"
   ]
  },
  {
   "cell_type": "markdown",
   "metadata": {},
   "source": [
    "### filter for files with fastq extension"
   ]
  },
  {
   "cell_type": "code",
   "execution_count": 85,
   "metadata": {
    "ExecuteTime": {
     "end_time": "2019-09-20T10:12:10.548645Z",
     "start_time": "2019-09-20T10:12:08.906709Z"
    }
   },
   "outputs": [
    {
     "data": {
      "text/plain": [
       "['FDAH/FD_AH_001_002B/HL3KHDMXX/L001/FD_AH_001_002B_L001_R2_001.fastq.gz',\n",
       " 'FDAH/FD_AH_001_002B/HL3KHDMXX/L001/FD_AH_001_002B_L001_R1_001.fastq.gz',\n",
       " 'FDAH/FD_AH_001_002B/HL3KHDMXX/L001/FD_AH_001_002B_L001_barcode_1_001.fastq.gz',\n",
       " 'FDAH/FD_AH_001_002B/HL3KHDMXX/L001/FD_AH_001_002B_L001_index_1_001.fastq.gz',\n",
       " 'FDAH/FD_AH_002_013B/HL3KHDMXX/L002/FD_AH_002_013B_L002_barcode_1_001.fastq.gz',\n",
       " 'FDAH/FD_AH_002_013B/HL3KHDMXX/L002/FD_AH_002_013B_L002_R2_001.fastq.gz',\n",
       " 'FDAH/FD_AH_002_013B/HL3KHDMXX/L002/FD_AH_002_013B_L002_R1_001.fastq.gz',\n",
       " 'FDAH/FD_AH_002_013B/HL3KHDMXX/L002/FD_AH_002_013B_L002_index_1_001.fastq.gz',\n",
       " 'FDAH/FD_AH_002_008A/HL3KHDMXX/L002/FD_AH_002_008A_L002_barcode_1_001.fastq.gz',\n",
       " 'FDAH/FD_AH_002_008A/HL3KHDMXX/L002/FD_AH_002_008A_L002_index_1_001.fastq.gz',\n",
       " 'FDAH/FD_AH_002_008A/HL3KHDMXX/L002/FD_AH_002_008A_L002_R2_001.fastq.gz',\n",
       " 'FDAH/FD_AH_002_008A/HL3KHDMXX/L002/FD_AH_002_008A_L002_R1_001.fastq.gz',\n",
       " 'FDAH/FD_AH_002_014B/HL3KHDMXX/L002/FD_AH_002_014B_L002_R1_001.fastq.gz',\n",
       " 'FDAH/FD_AH_002_014B/HL3KHDMXX/L002/FD_AH_002_014B_L002_R2_001.fastq.gz',\n",
       " 'FDAH/FD_AH_002_014B/HL3KHDMXX/L002/FD_AH_002_014B_L002_index_1_001.fastq.gz',\n",
       " 'FDAH/FD_AH_002_014B/HL3KHDMXX/L002/FD_AH_002_014B_L002_barcode_1_001.fastq.gz',\n",
       " 'FDAH/FD_AH_002_015B/HL3KHDMXX/L002/FD_AH_002_015B_L002_R2_001.fastq.gz',\n",
       " 'FDAH/FD_AH_002_015B/HL3KHDMXX/L002/FD_AH_002_015B_L002_barcode_1_001.fastq.gz',\n",
       " 'FDAH/FD_AH_002_015B/HL3KHDMXX/L002/FD_AH_002_015B_L002_R1_001.fastq.gz',\n",
       " 'FDAH/FD_AH_002_015B/HL3KHDMXX/L002/FD_AH_002_015B_L002_index_1_001.fastq.gz',\n",
       " 'FDAH/FD_AH_001_006B/HL3KHDMXX/L001/FD_AH_001_006B_L001_R1_001.fastq.gz',\n",
       " 'FDAH/FD_AH_001_006B/HL3KHDMXX/L001/FD_AH_001_006B_L001_barcode_1_001.fastq.gz',\n",
       " 'FDAH/FD_AH_001_006B/HL3KHDMXX/L001/FD_AH_001_006B_L001_index_1_001.fastq.gz',\n",
       " 'FDAH/FD_AH_001_006B/HL3KHDMXX/L001/FD_AH_001_006B_L001_R2_001.fastq.gz',\n",
       " 'FDAH/FD_AH_002_011B/HL3KHDMXX/L002/FD_AH_002_011B_L002_barcode_1_001.fastq.gz',\n",
       " 'FDAH/FD_AH_002_011B/HL3KHDMXX/L002/FD_AH_002_011B_L002_R1_001.fastq.gz',\n",
       " 'FDAH/FD_AH_002_011B/HL3KHDMXX/L002/FD_AH_002_011B_L002_index_1_001.fastq.gz',\n",
       " 'FDAH/FD_AH_002_011B/HL3KHDMXX/L002/FD_AH_002_011B_L002_R2_001.fastq.gz',\n",
       " 'FDAH/FD_AH_002_016B/HL3KHDMXX/L002/FD_AH_002_016B_L002_index_1_001.fastq.gz',\n",
       " 'FDAH/FD_AH_002_016B/HL3KHDMXX/L002/FD_AH_002_016B_L002_R2_001.fastq.gz',\n",
       " 'FDAH/FD_AH_002_016B/HL3KHDMXX/L002/FD_AH_002_016B_L002_R1_001.fastq.gz',\n",
       " 'FDAH/FD_AH_002_016B/HL3KHDMXX/L002/FD_AH_002_016B_L002_barcode_1_001.fastq.gz',\n",
       " 'FDAH/FD_AH_002_009A/HL3KHDMXX/L002/FD_AH_002_009A_L002_barcode_1_001.fastq.gz',\n",
       " 'FDAH/FD_AH_002_009A/HL3KHDMXX/L002/FD_AH_002_009A_L002_R1_001.fastq.gz',\n",
       " 'FDAH/FD_AH_002_009A/HL3KHDMXX/L002/FD_AH_002_009A_L002_index_1_001.fastq.gz',\n",
       " 'FDAH/FD_AH_002_009A/HL3KHDMXX/L002/FD_AH_002_009A_L002_R2_001.fastq.gz',\n",
       " 'FDAH/FD_AH_001_005A/HL3KHDMXX/L001/FD_AH_001_005A_L001_barcode_1_001.fastq.gz',\n",
       " 'FDAH/FD_AH_001_005A/HL3KHDMXX/L001/FD_AH_001_005A_L001_R2_001.fastq.gz',\n",
       " 'FDAH/FD_AH_001_005A/HL3KHDMXX/L001/FD_AH_001_005A_L001_index_1_001.fastq.gz',\n",
       " 'FDAH/FD_AH_001_005A/HL3KHDMXX/L001/FD_AH_001_005A_L001_R1_001.fastq.gz',\n",
       " 'FDAH/FD_AH_001_007B/HL3KHDMXX/L001/FD_AH_001_007B_L001_index_1_001.fastq.gz',\n",
       " 'FDAH/FD_AH_001_007B/HL3KHDMXX/L001/FD_AH_001_007B_L001_R2_001.fastq.gz',\n",
       " 'FDAH/FD_AH_001_007B/HL3KHDMXX/L001/FD_AH_001_007B_L001_R1_001.fastq.gz',\n",
       " 'FDAH/FD_AH_001_007B/HL3KHDMXX/L001/FD_AH_001_007B_L001_barcode_1_001.fastq.gz',\n",
       " 'FDAH/FD_AH_002_014A/HL3KHDMXX/L002/FD_AH_002_014A_L002_barcode_1_001.fastq.gz',\n",
       " 'FDAH/FD_AH_002_014A/HL3KHDMXX/L002/FD_AH_002_014A_L002_index_1_001.fastq.gz',\n",
       " 'FDAH/FD_AH_002_014A/HL3KHDMXX/L002/FD_AH_002_014A_L002_R2_001.fastq.gz',\n",
       " 'FDAH/FD_AH_002_014A/HL3KHDMXX/L002/FD_AH_002_014A_L002_R1_001.fastq.gz',\n",
       " 'FDAH/FD_AH_002_008B/HL3KHDMXX/L002/FD_AH_002_008B_L002_barcode_1_001.fastq.gz',\n",
       " 'FDAH/FD_AH_002_008B/HL3KHDMXX/L002/FD_AH_002_008B_L002_index_1_001.fastq.gz',\n",
       " 'FDAH/FD_AH_002_008B/HL3KHDMXX/L002/FD_AH_002_008B_L002_R1_001.fastq.gz',\n",
       " 'FDAH/FD_AH_002_008B/HL3KHDMXX/L002/FD_AH_002_008B_L002_R2_001.fastq.gz',\n",
       " 'FDAH/FD_AH_001_005B/HL3KHDMXX/L001/FD_AH_001_005B_L001_barcode_1_001.fastq.gz',\n",
       " 'FDAH/FD_AH_001_005B/HL3KHDMXX/L001/FD_AH_001_005B_L001_index_1_001.fastq.gz',\n",
       " 'FDAH/FD_AH_001_005B/HL3KHDMXX/L001/FD_AH_001_005B_L001_R1_001.fastq.gz',\n",
       " 'FDAH/FD_AH_001_005B/HL3KHDMXX/L001/FD_AH_001_005B_L001_R2_001.fastq.gz',\n",
       " 'FDAH/FD_AH_002_009B/HL3KHDMXX/L002/FD_AH_002_009B_L002_barcode_1_001.fastq.gz',\n",
       " 'FDAH/FD_AH_002_009B/HL3KHDMXX/L002/FD_AH_002_009B_L002_R2_001.fastq.gz',\n",
       " 'FDAH/FD_AH_002_009B/HL3KHDMXX/L002/FD_AH_002_009B_L002_index_1_001.fastq.gz',\n",
       " 'FDAH/FD_AH_002_009B/HL3KHDMXX/L002/FD_AH_002_009B_L002_R1_001.fastq.gz',\n",
       " 'FDAH/FD_AH_002_012A/HL3KHDMXX/L002/FD_AH_002_012A_L002_barcode_1_001.fastq.gz',\n",
       " 'FDAH/FD_AH_002_012A/HL3KHDMXX/L002/FD_AH_002_012A_L002_R2_001.fastq.gz',\n",
       " 'FDAH/FD_AH_002_012A/HL3KHDMXX/L002/FD_AH_002_012A_L002_R1_001.fastq.gz',\n",
       " 'FDAH/FD_AH_002_012A/HL3KHDMXX/L002/FD_AH_002_012A_L002_index_1_001.fastq.gz',\n",
       " 'FDAH/FD_AH_002_012B/HL3KHDMXX/L002/FD_AH_002_012B_L002_barcode_1_001.fastq.gz',\n",
       " 'FDAH/FD_AH_002_012B/HL3KHDMXX/L002/FD_AH_002_012B_L002_R1_001.fastq.gz',\n",
       " 'FDAH/FD_AH_002_012B/HL3KHDMXX/L002/FD_AH_002_012B_L002_index_1_001.fastq.gz',\n",
       " 'FDAH/FD_AH_002_012B/HL3KHDMXX/L002/FD_AH_002_012B_L002_R2_001.fastq.gz',\n",
       " 'FDAH/Undetermined/HL3KHDMXX/L001/Undetermined_L001_R1_001.fastq.gz',\n",
       " 'FDAH/Undetermined/HL3KHDMXX/L001/Undetermined_L001_R2_001.fastq.gz',\n",
       " 'FDAH/Undetermined/HL3KHDMXX/L001/Undetermined_L001_barcode_1_001.fastq.gz',\n",
       " 'FDAH/Undetermined/HL3KHDMXX/L001/Undetermined_L001_index_1_001.fastq.gz',\n",
       " 'FDAH/Undetermined/HL3KHDMXX/L002/Undetermined_L002_R2_001.fastq.gz',\n",
       " 'FDAH/Undetermined/HL3KHDMXX/L002/Undetermined_L002_R1_001.fastq.gz',\n",
       " 'FDAH/Undetermined/HL3KHDMXX/L002/Undetermined_L002_barcode_1_001.fastq.gz',\n",
       " 'FDAH/Undetermined/HL3KHDMXX/L002/Undetermined_L002_index_1_001.fastq.gz',\n",
       " 'FDAH/FD_AH_001_007A/HL3KHDMXX/L001/FD_AH_001_007A_L001_barcode_1_001.fastq.gz',\n",
       " 'FDAH/FD_AH_001_007A/HL3KHDMXX/L001/FD_AH_001_007A_L001_index_1_001.fastq.gz',\n",
       " 'FDAH/FD_AH_001_007A/HL3KHDMXX/L001/FD_AH_001_007A_L001_R1_001.fastq.gz',\n",
       " 'FDAH/FD_AH_001_007A/HL3KHDMXX/L001/FD_AH_001_007A_L001_R2_001.fastq.gz',\n",
       " 'FDAH/FD_AH_001_006A/HL3KHDMXX/L001/FD_AH_001_006A_L001_R1_001.fastq.gz',\n",
       " 'FDAH/FD_AH_001_006A/HL3KHDMXX/L001/FD_AH_001_006A_L001_barcode_1_001.fastq.gz',\n",
       " 'FDAH/FD_AH_001_006A/HL3KHDMXX/L001/FD_AH_001_006A_L001_index_1_001.fastq.gz',\n",
       " 'FDAH/FD_AH_001_006A/HL3KHDMXX/L001/FD_AH_001_006A_L001_R2_001.fastq.gz',\n",
       " 'FDAH/FD_AH_002_011A/HL3KHDMXX/L002/FD_AH_002_011A_L002_index_1_001.fastq.gz',\n",
       " 'FDAH/FD_AH_002_011A/HL3KHDMXX/L002/FD_AH_002_011A_L002_barcode_1_001.fastq.gz',\n",
       " 'FDAH/FD_AH_002_011A/HL3KHDMXX/L002/FD_AH_002_011A_L002_R1_001.fastq.gz',\n",
       " 'FDAH/FD_AH_002_011A/HL3KHDMXX/L002/FD_AH_002_011A_L002_R2_001.fastq.gz',\n",
       " 'FDAH/FD_AH_001_010A/HL3KHDMXX/L001/FD_AH_001_010A_L001_index_1_001.fastq.gz',\n",
       " 'FDAH/FD_AH_001_010A/HL3KHDMXX/L001/FD_AH_001_010A_L001_R2_001.fastq.gz',\n",
       " 'FDAH/FD_AH_001_010A/HL3KHDMXX/L001/FD_AH_001_010A_L001_barcode_1_001.fastq.gz',\n",
       " 'FDAH/FD_AH_001_010A/HL3KHDMXX/L001/FD_AH_001_010A_L001_R1_001.fastq.gz',\n",
       " 'FDAH/FD_AH_001_004B/HL3KHDMXX/L001/FD_AH_001_004B_L001_R2_001.fastq.gz',\n",
       " 'FDAH/FD_AH_001_004B/HL3KHDMXX/L001/FD_AH_001_004B_L001_barcode_1_001.fastq.gz',\n",
       " 'FDAH/FD_AH_001_004B/HL3KHDMXX/L001/FD_AH_001_004B_L001_index_1_001.fastq.gz',\n",
       " 'FDAH/FD_AH_001_004B/HL3KHDMXX/L001/FD_AH_001_004B_L001_R1_001.fastq.gz',\n",
       " 'FDAH/FD_AH_001_004A/HL3KHDMXX/L001/FD_AH_001_004A_L001_R2_001.fastq.gz',\n",
       " 'FDAH/FD_AH_001_004A/HL3KHDMXX/L001/FD_AH_001_004A_L001_R1_001.fastq.gz',\n",
       " 'FDAH/FD_AH_001_004A/HL3KHDMXX/L001/FD_AH_001_004A_L001_index_1_001.fastq.gz',\n",
       " 'FDAH/FD_AH_001_004A/HL3KHDMXX/L001/FD_AH_001_004A_L001_barcode_1_001.fastq.gz',\n",
       " 'FDAH/FD_AH_002_016A/HL3KHDMXX/L002/FD_AH_002_016A_L002_R2_001.fastq.gz',\n",
       " 'FDAH/FD_AH_002_016A/HL3KHDMXX/L002/FD_AH_002_016A_L002_index_1_001.fastq.gz',\n",
       " 'FDAH/FD_AH_002_016A/HL3KHDMXX/L002/FD_AH_002_016A_L002_barcode_1_001.fastq.gz',\n",
       " 'FDAH/FD_AH_002_016A/HL3KHDMXX/L002/FD_AH_002_016A_L002_R1_001.fastq.gz',\n",
       " 'FDAH/FD_AH_001_003B/HL3KHDMXX/L001/FD_AH_001_003B_L001_R1_001.fastq.gz',\n",
       " 'FDAH/FD_AH_001_003B/HL3KHDMXX/L001/FD_AH_001_003B_L001_index_1_001.fastq.gz',\n",
       " 'FDAH/FD_AH_001_003B/HL3KHDMXX/L001/FD_AH_001_003B_L001_R2_001.fastq.gz',\n",
       " 'FDAH/FD_AH_001_003B/HL3KHDMXX/L001/FD_AH_001_003B_L001_barcode_1_001.fastq.gz',\n",
       " 'FDAH/FD_AH_001_001B/HL3KHDMXX/L001/FD_AH_001_001B_L001_barcode_1_001.fastq.gz',\n",
       " 'FDAH/FD_AH_001_001B/HL3KHDMXX/L001/FD_AH_001_001B_L001_index_1_001.fastq.gz',\n",
       " 'FDAH/FD_AH_001_001B/HL3KHDMXX/L001/FD_AH_001_001B_L001_R1_001.fastq.gz',\n",
       " 'FDAH/FD_AH_001_001B/HL3KHDMXX/L001/FD_AH_001_001B_L001_R2_001.fastq.gz',\n",
       " 'FDAH/FD_AH_001_002A/HL3KHDMXX/L001/FD_AH_001_002A_L001_R2_001.fastq.gz',\n",
       " 'FDAH/FD_AH_001_002A/HL3KHDMXX/L001/FD_AH_001_002A_L001_index_1_001.fastq.gz',\n",
       " 'FDAH/FD_AH_001_002A/HL3KHDMXX/L001/FD_AH_001_002A_L001_R1_001.fastq.gz',\n",
       " 'FDAH/FD_AH_001_002A/HL3KHDMXX/L001/FD_AH_001_002A_L001_barcode_1_001.fastq.gz',\n",
       " 'FDAH/FD_AH_001_001A/HL3KHDMXX/L001/FD_AH_001_001A_L001_R1_001.fastq.gz',\n",
       " 'FDAH/FD_AH_001_001A/HL3KHDMXX/L001/FD_AH_001_001A_L001_R2_001.fastq.gz',\n",
       " 'FDAH/FD_AH_001_001A/HL3KHDMXX/L001/FD_AH_001_001A_L001_barcode_1_001.fastq.gz',\n",
       " 'FDAH/FD_AH_001_001A/HL3KHDMXX/L001/FD_AH_001_001A_L001_index_1_001.fastq.gz',\n",
       " 'FDAH/FD_AH_002_015A/HL3KHDMXX/L002/FD_AH_002_015A_L002_index_1_001.fastq.gz',\n",
       " 'FDAH/FD_AH_002_015A/HL3KHDMXX/L002/FD_AH_002_015A_L002_R1_001.fastq.gz',\n",
       " 'FDAH/FD_AH_002_015A/HL3KHDMXX/L002/FD_AH_002_015A_L002_R2_001.fastq.gz',\n",
       " 'FDAH/FD_AH_002_015A/HL3KHDMXX/L002/FD_AH_002_015A_L002_barcode_1_001.fastq.gz',\n",
       " 'FDAH/FD_AH_002_013A/HL3KHDMXX/L002/FD_AH_002_013A_L002_R2_001.fastq.gz',\n",
       " 'FDAH/FD_AH_002_013A/HL3KHDMXX/L002/FD_AH_002_013A_L002_R1_001.fastq.gz',\n",
       " 'FDAH/FD_AH_002_013A/HL3KHDMXX/L002/FD_AH_002_013A_L002_barcode_1_001.fastq.gz',\n",
       " 'FDAH/FD_AH_002_013A/HL3KHDMXX/L002/FD_AH_002_013A_L002_index_1_001.fastq.gz',\n",
       " 'FDAH/FD_AH_001_003A/HL3KHDMXX/L001/FD_AH_001_003A_L001_R1_001.fastq.gz',\n",
       " 'FDAH/FD_AH_001_003A/HL3KHDMXX/L001/FD_AH_001_003A_L001_index_1_001.fastq.gz',\n",
       " 'FDAH/FD_AH_001_003A/HL3KHDMXX/L001/FD_AH_001_003A_L001_barcode_1_001.fastq.gz',\n",
       " 'FDAH/FD_AH_001_003A/HL3KHDMXX/L001/FD_AH_001_003A_L001_R2_001.fastq.gz',\n",
       " 'FDAH/FD_AH_001_010B/HL3KHDMXX/L001/FD_AH_001_010B_L001_index_1_001.fastq.gz',\n",
       " 'FDAH/FD_AH_001_010B/HL3KHDMXX/L001/FD_AH_001_010B_L001_R1_001.fastq.gz',\n",
       " 'FDAH/FD_AH_001_010B/HL3KHDMXX/L001/FD_AH_001_010B_L001_R2_001.fastq.gz',\n",
       " 'FDAH/FD_AH_001_010B/HL3KHDMXX/L001/FD_AH_001_010B_L001_barcode_1_001.fastq.gz']"
      ]
     },
     "execution_count": 85,
     "metadata": {},
     "output_type": "execute_result"
    }
   ],
   "source": [
    "fastq_list = []\n",
    "for folder, subfolders, files in os.walk('FDAH'):\n",
    "    for file in files:\n",
    "        if '.fastq.' in file and not '.md5' in file and not 'trim' in file and not 'sub' in file:\n",
    "            fastq_list.append(os.path.join(folder,file))\n",
    "fastq_list"
   ]
  },
  {
   "cell_type": "markdown",
   "metadata": {},
   "source": [
    "### read in the sample sheet"
   ]
  },
  {
   "cell_type": "code",
   "execution_count": 86,
   "metadata": {
    "ExecuteTime": {
     "end_time": "2019-09-20T10:12:12.441439Z",
     "start_time": "2019-09-20T10:12:12.425718Z"
    }
   },
   "outputs": [
    {
     "data": {
      "text/html": [
       "<div>\n",
       "<style scoped>\n",
       "    .dataframe tbody tr th:only-of-type {\n",
       "        vertical-align: middle;\n",
       "    }\n",
       "\n",
       "    .dataframe tbody tr th {\n",
       "        vertical-align: top;\n",
       "    }\n",
       "\n",
       "    .dataframe thead th {\n",
       "        text-align: right;\n",
       "    }\n",
       "</style>\n",
       "<table border=\"1\" class=\"dataframe\">\n",
       "  <thead>\n",
       "    <tr style=\"text-align: right;\">\n",
       "      <th></th>\n",
       "      <th>sample</th>\n",
       "      <th>Lane</th>\n",
       "      <th>name</th>\n",
       "    </tr>\n",
       "  </thead>\n",
       "  <tbody>\n",
       "    <tr>\n",
       "      <td>16</td>\n",
       "      <td>FD_AH_002_008A</td>\n",
       "      <td>2</td>\n",
       "      <td>008_A</td>\n",
       "    </tr>\n",
       "    <tr>\n",
       "      <td>17</td>\n",
       "      <td>FD_AH_002_008B</td>\n",
       "      <td>2</td>\n",
       "      <td>008_B</td>\n",
       "    </tr>\n",
       "    <tr>\n",
       "      <td>18</td>\n",
       "      <td>FD_AH_002_009A</td>\n",
       "      <td>2</td>\n",
       "      <td>009_A</td>\n",
       "    </tr>\n",
       "    <tr>\n",
       "      <td>19</td>\n",
       "      <td>FD_AH_002_009B</td>\n",
       "      <td>2</td>\n",
       "      <td>009_B</td>\n",
       "    </tr>\n",
       "    <tr>\n",
       "      <td>20</td>\n",
       "      <td>FD_AH_002_011A</td>\n",
       "      <td>2</td>\n",
       "      <td>011_A</td>\n",
       "    </tr>\n",
       "  </tbody>\n",
       "</table>\n",
       "</div>"
      ],
      "text/plain": [
       "            sample  Lane   name\n",
       "16  FD_AH_002_008A     2  008_A\n",
       "17  FD_AH_002_008B     2  008_B\n",
       "18  FD_AH_002_009A     2  009_A\n",
       "19  FD_AH_002_009B     2  009_B\n",
       "20  FD_AH_002_011A     2  011_A"
      ]
     },
     "execution_count": 86,
     "metadata": {},
     "output_type": "execute_result"
    }
   ],
   "source": [
    "samples = pd.read_csv('sample_sheet1.csv', sep='\\t', index_col=0)\n",
    "samples[:5]"
   ]
  },
  {
   "cell_type": "markdown",
   "metadata": {},
   "source": [
    "### function to retrieve fastqs for specific row of sample sheet"
   ]
  },
  {
   "cell_type": "code",
   "execution_count": 87,
   "metadata": {
    "ExecuteTime": {
     "end_time": "2019-09-20T10:12:13.672399Z",
     "start_time": "2019-09-20T10:12:13.656967Z"
    }
   },
   "outputs": [
    {
     "name": "stdout",
     "output_type": "stream",
     "text": [
      "FDAH/FD_AH_001_002B/HL3KHDMXX/L001/FD_AH_001_002B_L001_R2_001.fastq.gz\n",
      "FDAH/FD_AH_001_002B/HL3KHDMXX/L001/FD_AH_001_002B_L001_R1_001.fastq.gz\n",
      "FDAH/FD_AH_001_002B/HL3KHDMXX/L001/FD_AH_001_002B_L001_barcode_1_001.fastq.gz\n",
      "FDAH/FD_AH_001_002B/HL3KHDMXX/L001/FD_AH_001_002B_L001_index_1_001.fastq.gz\n",
      "FDAH/FD_AH_002_013B/HL3KHDMXX/L002/FD_AH_002_013B_L002_barcode_1_001.fastq.gz\n",
      "FDAH/FD_AH_002_013B/HL3KHDMXX/L002/FD_AH_002_013B_L002_R2_001.fastq.gz\n",
      "FDAH/FD_AH_002_013B/HL3KHDMXX/L002/FD_AH_002_013B_L002_R1_001.fastq.gz\n",
      "FDAH/FD_AH_002_013B/HL3KHDMXX/L002/FD_AH_002_013B_L002_index_1_001.fastq.gz\n",
      "FDAH/FD_AH_002_008A/HL3KHDMXX/L002/FD_AH_002_008A_L002_barcode_1_001.fastq.gz\n",
      "FDAH/FD_AH_002_008A/HL3KHDMXX/L002/FD_AH_002_008A_L002_index_1_001.fastq.gz\n",
      "FDAH/FD_AH_002_008A/HL3KHDMXX/L002/FD_AH_002_008A_L002_R2_001.fastq.gz\n",
      "FDAH/FD_AH_002_008A/HL3KHDMXX/L002/FD_AH_002_008A_L002_R1_001.fastq.gz\n",
      "FDAH/FD_AH_002_014B/HL3KHDMXX/L002/FD_AH_002_014B_L002_R1_001.fastq.gz\n",
      "FDAH/FD_AH_002_014B/HL3KHDMXX/L002/FD_AH_002_014B_L002_R2_001.fastq.gz\n",
      "FDAH/FD_AH_002_014B/HL3KHDMXX/L002/FD_AH_002_014B_L002_index_1_001.fastq.gz\n",
      "FDAH/FD_AH_002_014B/HL3KHDMXX/L002/FD_AH_002_014B_L002_barcode_1_001.fastq.gz\n",
      "FDAH/FD_AH_002_015B/HL3KHDMXX/L002/FD_AH_002_015B_L002_R2_001.fastq.gz\n",
      "FDAH/FD_AH_002_015B/HL3KHDMXX/L002/FD_AH_002_015B_L002_barcode_1_001.fastq.gz\n",
      "FDAH/FD_AH_002_015B/HL3KHDMXX/L002/FD_AH_002_015B_L002_R1_001.fastq.gz\n",
      "FDAH/FD_AH_002_015B/HL3KHDMXX/L002/FD_AH_002_015B_L002_index_1_001.fastq.gz\n",
      "FDAH/FD_AH_001_006B/HL3KHDMXX/L001/FD_AH_001_006B_L001_R1_001.fastq.gz\n",
      "FDAH/FD_AH_001_006B/HL3KHDMXX/L001/FD_AH_001_006B_L001_barcode_1_001.fastq.gz\n",
      "FDAH/FD_AH_001_006B/HL3KHDMXX/L001/FD_AH_001_006B_L001_index_1_001.fastq.gz\n",
      "FDAH/FD_AH_001_006B/HL3KHDMXX/L001/FD_AH_001_006B_L001_R2_001.fastq.gz\n",
      "FDAH/FD_AH_002_011B/HL3KHDMXX/L002/FD_AH_002_011B_L002_barcode_1_001.fastq.gz\n",
      "FDAH/FD_AH_002_011B/HL3KHDMXX/L002/FD_AH_002_011B_L002_R1_001.fastq.gz\n",
      "FDAH/FD_AH_002_011B/HL3KHDMXX/L002/FD_AH_002_011B_L002_index_1_001.fastq.gz\n",
      "FDAH/FD_AH_002_011B/HL3KHDMXX/L002/FD_AH_002_011B_L002_R2_001.fastq.gz\n",
      "FDAH/FD_AH_002_016B/HL3KHDMXX/L002/FD_AH_002_016B_L002_index_1_001.fastq.gz\n",
      "FDAH/FD_AH_002_016B/HL3KHDMXX/L002/FD_AH_002_016B_L002_R2_001.fastq.gz\n",
      "FDAH/FD_AH_002_016B/HL3KHDMXX/L002/FD_AH_002_016B_L002_R1_001.fastq.gz\n",
      "FDAH/FD_AH_002_016B/HL3KHDMXX/L002/FD_AH_002_016B_L002_barcode_1_001.fastq.gz\n",
      "FDAH/FD_AH_002_009A/HL3KHDMXX/L002/FD_AH_002_009A_L002_barcode_1_001.fastq.gz\n",
      "FDAH/FD_AH_002_009A/HL3KHDMXX/L002/FD_AH_002_009A_L002_R1_001.fastq.gz\n",
      "FDAH/FD_AH_002_009A/HL3KHDMXX/L002/FD_AH_002_009A_L002_index_1_001.fastq.gz\n",
      "FDAH/FD_AH_002_009A/HL3KHDMXX/L002/FD_AH_002_009A_L002_R2_001.fastq.gz\n",
      "FDAH/FD_AH_001_005A/HL3KHDMXX/L001/FD_AH_001_005A_L001_barcode_1_001.fastq.gz\n",
      "FDAH/FD_AH_001_005A/HL3KHDMXX/L001/FD_AH_001_005A_L001_R2_001.fastq.gz\n",
      "FDAH/FD_AH_001_005A/HL3KHDMXX/L001/FD_AH_001_005A_L001_index_1_001.fastq.gz\n",
      "FDAH/FD_AH_001_005A/HL3KHDMXX/L001/FD_AH_001_005A_L001_R1_001.fastq.gz\n",
      "FDAH/FD_AH_001_007B/HL3KHDMXX/L001/FD_AH_001_007B_L001_index_1_001.fastq.gz\n",
      "FDAH/FD_AH_001_007B/HL3KHDMXX/L001/FD_AH_001_007B_L001_R2_001.fastq.gz\n",
      "FDAH/FD_AH_001_007B/HL3KHDMXX/L001/FD_AH_001_007B_L001_R1_001.fastq.gz\n",
      "FDAH/FD_AH_001_007B/HL3KHDMXX/L001/FD_AH_001_007B_L001_barcode_1_001.fastq.gz\n",
      "FDAH/FD_AH_002_014A/HL3KHDMXX/L002/FD_AH_002_014A_L002_barcode_1_001.fastq.gz\n",
      "FDAH/FD_AH_002_014A/HL3KHDMXX/L002/FD_AH_002_014A_L002_index_1_001.fastq.gz\n",
      "FDAH/FD_AH_002_014A/HL3KHDMXX/L002/FD_AH_002_014A_L002_R2_001.fastq.gz\n",
      "FDAH/FD_AH_002_014A/HL3KHDMXX/L002/FD_AH_002_014A_L002_R1_001.fastq.gz\n",
      "FDAH/FD_AH_002_008B/HL3KHDMXX/L002/FD_AH_002_008B_L002_barcode_1_001.fastq.gz\n",
      "FDAH/FD_AH_002_008B/HL3KHDMXX/L002/FD_AH_002_008B_L002_index_1_001.fastq.gz\n",
      "FDAH/FD_AH_002_008B/HL3KHDMXX/L002/FD_AH_002_008B_L002_R1_001.fastq.gz\n",
      "FDAH/FD_AH_002_008B/HL3KHDMXX/L002/FD_AH_002_008B_L002_R2_001.fastq.gz\n",
      "FDAH/FD_AH_001_005B/HL3KHDMXX/L001/FD_AH_001_005B_L001_barcode_1_001.fastq.gz\n",
      "FDAH/FD_AH_001_005B/HL3KHDMXX/L001/FD_AH_001_005B_L001_index_1_001.fastq.gz\n",
      "FDAH/FD_AH_001_005B/HL3KHDMXX/L001/FD_AH_001_005B_L001_R1_001.fastq.gz\n",
      "FDAH/FD_AH_001_005B/HL3KHDMXX/L001/FD_AH_001_005B_L001_R2_001.fastq.gz\n",
      "FDAH/FD_AH_002_009B/HL3KHDMXX/L002/FD_AH_002_009B_L002_barcode_1_001.fastq.gz\n",
      "FDAH/FD_AH_002_009B/HL3KHDMXX/L002/FD_AH_002_009B_L002_R2_001.fastq.gz\n",
      "FDAH/FD_AH_002_009B/HL3KHDMXX/L002/FD_AH_002_009B_L002_index_1_001.fastq.gz\n",
      "FDAH/FD_AH_002_009B/HL3KHDMXX/L002/FD_AH_002_009B_L002_R1_001.fastq.gz\n",
      "FDAH/FD_AH_002_012A/HL3KHDMXX/L002/FD_AH_002_012A_L002_barcode_1_001.fastq.gz\n",
      "FDAH/FD_AH_002_012A/HL3KHDMXX/L002/FD_AH_002_012A_L002_R2_001.fastq.gz\n",
      "FDAH/FD_AH_002_012A/HL3KHDMXX/L002/FD_AH_002_012A_L002_R1_001.fastq.gz\n",
      "FDAH/FD_AH_002_012A/HL3KHDMXX/L002/FD_AH_002_012A_L002_index_1_001.fastq.gz\n",
      "FDAH/FD_AH_002_012B/HL3KHDMXX/L002/FD_AH_002_012B_L002_barcode_1_001.fastq.gz\n",
      "FDAH/FD_AH_002_012B/HL3KHDMXX/L002/FD_AH_002_012B_L002_R1_001.fastq.gz\n",
      "FDAH/FD_AH_002_012B/HL3KHDMXX/L002/FD_AH_002_012B_L002_index_1_001.fastq.gz\n",
      "FDAH/FD_AH_002_012B/HL3KHDMXX/L002/FD_AH_002_012B_L002_R2_001.fastq.gz\n",
      "FDAH/Undetermined/HL3KHDMXX/L001/Undetermined_L001_R1_001.fastq.gz\n",
      "FDAH/Undetermined/HL3KHDMXX/L001/Undetermined_L001_R2_001.fastq.gz\n",
      "FDAH/Undetermined/HL3KHDMXX/L001/Undetermined_L001_barcode_1_001.fastq.gz\n",
      "FDAH/Undetermined/HL3KHDMXX/L001/Undetermined_L001_index_1_001.fastq.gz\n",
      "FDAH/Undetermined/HL3KHDMXX/L002/Undetermined_L002_R2_001.fastq.gz\n",
      "FDAH/Undetermined/HL3KHDMXX/L002/Undetermined_L002_R1_001.fastq.gz\n",
      "FDAH/Undetermined/HL3KHDMXX/L002/Undetermined_L002_barcode_1_001.fastq.gz\n",
      "FDAH/Undetermined/HL3KHDMXX/L002/Undetermined_L002_index_1_001.fastq.gz\n",
      "FDAH/FD_AH_001_007A/HL3KHDMXX/L001/FD_AH_001_007A_L001_barcode_1_001.fastq.gz\n",
      "FDAH/FD_AH_001_007A/HL3KHDMXX/L001/FD_AH_001_007A_L001_index_1_001.fastq.gz\n",
      "FDAH/FD_AH_001_007A/HL3KHDMXX/L001/FD_AH_001_007A_L001_R1_001.fastq.gz\n",
      "FDAH/FD_AH_001_007A/HL3KHDMXX/L001/FD_AH_001_007A_L001_R2_001.fastq.gz\n",
      "FDAH/FD_AH_001_006A/HL3KHDMXX/L001/FD_AH_001_006A_L001_R1_001.fastq.gz\n",
      "FDAH/FD_AH_001_006A/HL3KHDMXX/L001/FD_AH_001_006A_L001_barcode_1_001.fastq.gz\n",
      "FDAH/FD_AH_001_006A/HL3KHDMXX/L001/FD_AH_001_006A_L001_index_1_001.fastq.gz\n",
      "FDAH/FD_AH_001_006A/HL3KHDMXX/L001/FD_AH_001_006A_L001_R2_001.fastq.gz\n",
      "FDAH/FD_AH_002_011A/HL3KHDMXX/L002/FD_AH_002_011A_L002_index_1_001.fastq.gz\n",
      "FDAH/FD_AH_002_011A/HL3KHDMXX/L002/FD_AH_002_011A_L002_barcode_1_001.fastq.gz\n",
      "FDAH/FD_AH_002_011A/HL3KHDMXX/L002/FD_AH_002_011A_L002_R1_001.fastq.gz\n",
      "FDAH/FD_AH_002_011A/HL3KHDMXX/L002/FD_AH_002_011A_L002_R2_001.fastq.gz\n",
      "FDAH/FD_AH_001_010A/HL3KHDMXX/L001/FD_AH_001_010A_L001_index_1_001.fastq.gz\n",
      "FDAH/FD_AH_001_010A/HL3KHDMXX/L001/FD_AH_001_010A_L001_R2_001.fastq.gz\n",
      "FDAH/FD_AH_001_010A/HL3KHDMXX/L001/FD_AH_001_010A_L001_barcode_1_001.fastq.gz\n",
      "FDAH/FD_AH_001_010A/HL3KHDMXX/L001/FD_AH_001_010A_L001_R1_001.fastq.gz\n",
      "FDAH/FD_AH_001_004B/HL3KHDMXX/L001/FD_AH_001_004B_L001_R2_001.fastq.gz\n",
      "FDAH/FD_AH_001_004B/HL3KHDMXX/L001/FD_AH_001_004B_L001_barcode_1_001.fastq.gz\n",
      "FDAH/FD_AH_001_004B/HL3KHDMXX/L001/FD_AH_001_004B_L001_index_1_001.fastq.gz\n",
      "FDAH/FD_AH_001_004B/HL3KHDMXX/L001/FD_AH_001_004B_L001_R1_001.fastq.gz\n",
      "FDAH/FD_AH_001_004A/HL3KHDMXX/L001/FD_AH_001_004A_L001_R2_001.fastq.gz\n",
      "FDAH/FD_AH_001_004A/HL3KHDMXX/L001/FD_AH_001_004A_L001_R1_001.fastq.gz\n",
      "FDAH/FD_AH_001_004A/HL3KHDMXX/L001/FD_AH_001_004A_L001_index_1_001.fastq.gz\n",
      "FDAH/FD_AH_001_004A/HL3KHDMXX/L001/FD_AH_001_004A_L001_barcode_1_001.fastq.gz\n",
      "FDAH/FD_AH_002_016A/HL3KHDMXX/L002/FD_AH_002_016A_L002_R2_001.fastq.gz\n",
      "FDAH/FD_AH_002_016A/HL3KHDMXX/L002/FD_AH_002_016A_L002_index_1_001.fastq.gz\n",
      "FDAH/FD_AH_002_016A/HL3KHDMXX/L002/FD_AH_002_016A_L002_barcode_1_001.fastq.gz\n",
      "FDAH/FD_AH_002_016A/HL3KHDMXX/L002/FD_AH_002_016A_L002_R1_001.fastq.gz\n",
      "FDAH/FD_AH_001_003B/HL3KHDMXX/L001/FD_AH_001_003B_L001_R1_001.fastq.gz\n",
      "FDAH/FD_AH_001_003B/HL3KHDMXX/L001/FD_AH_001_003B_L001_index_1_001.fastq.gz\n",
      "FDAH/FD_AH_001_003B/HL3KHDMXX/L001/FD_AH_001_003B_L001_R2_001.fastq.gz\n",
      "FDAH/FD_AH_001_003B/HL3KHDMXX/L001/FD_AH_001_003B_L001_barcode_1_001.fastq.gz\n",
      "FDAH/FD_AH_001_001B/HL3KHDMXX/L001/FD_AH_001_001B_L001_barcode_1_001.fastq.gz\n",
      "FDAH/FD_AH_001_001B/HL3KHDMXX/L001/FD_AH_001_001B_L001_index_1_001.fastq.gz\n",
      "FDAH/FD_AH_001_001B/HL3KHDMXX/L001/FD_AH_001_001B_L001_R1_001.fastq.gz\n",
      "FDAH/FD_AH_001_001B/HL3KHDMXX/L001/FD_AH_001_001B_L001_R2_001.fastq.gz\n",
      "FDAH/FD_AH_001_002A/HL3KHDMXX/L001/FD_AH_001_002A_L001_R2_001.fastq.gz\n",
      "FDAH/FD_AH_001_002A/HL3KHDMXX/L001/FD_AH_001_002A_L001_index_1_001.fastq.gz\n",
      "FDAH/FD_AH_001_002A/HL3KHDMXX/L001/FD_AH_001_002A_L001_R1_001.fastq.gz\n",
      "FDAH/FD_AH_001_002A/HL3KHDMXX/L001/FD_AH_001_002A_L001_barcode_1_001.fastq.gz\n",
      "FDAH/FD_AH_001_001A/HL3KHDMXX/L001/FD_AH_001_001A_L001_R1_001.fastq.gz\n",
      "FDAH/FD_AH_001_001A/HL3KHDMXX/L001/FD_AH_001_001A_L001_R2_001.fastq.gz\n",
      "FDAH/FD_AH_001_001A/HL3KHDMXX/L001/FD_AH_001_001A_L001_barcode_1_001.fastq.gz\n",
      "FDAH/FD_AH_001_001A/HL3KHDMXX/L001/FD_AH_001_001A_L001_index_1_001.fastq.gz\n",
      "FDAH/FD_AH_002_015A/HL3KHDMXX/L002/FD_AH_002_015A_L002_index_1_001.fastq.gz\n",
      "FDAH/FD_AH_002_015A/HL3KHDMXX/L002/FD_AH_002_015A_L002_R1_001.fastq.gz\n",
      "FDAH/FD_AH_002_015A/HL3KHDMXX/L002/FD_AH_002_015A_L002_R2_001.fastq.gz\n",
      "FDAH/FD_AH_002_015A/HL3KHDMXX/L002/FD_AH_002_015A_L002_barcode_1_001.fastq.gz\n",
      "FDAH/FD_AH_002_013A/HL3KHDMXX/L002/FD_AH_002_013A_L002_R2_001.fastq.gz\n",
      "FDAH/FD_AH_002_013A/HL3KHDMXX/L002/FD_AH_002_013A_L002_R1_001.fastq.gz\n",
      "FDAH/FD_AH_002_013A/HL3KHDMXX/L002/FD_AH_002_013A_L002_barcode_1_001.fastq.gz\n",
      "FDAH/FD_AH_002_013A/HL3KHDMXX/L002/FD_AH_002_013A_L002_index_1_001.fastq.gz\n",
      "FDAH/FD_AH_001_003A/HL3KHDMXX/L001/FD_AH_001_003A_L001_R1_001.fastq.gz\n",
      "FDAH/FD_AH_001_003A/HL3KHDMXX/L001/FD_AH_001_003A_L001_index_1_001.fastq.gz\n",
      "FDAH/FD_AH_001_003A/HL3KHDMXX/L001/FD_AH_001_003A_L001_barcode_1_001.fastq.gz\n",
      "FDAH/FD_AH_001_003A/HL3KHDMXX/L001/FD_AH_001_003A_L001_R2_001.fastq.gz\n",
      "FDAH/FD_AH_001_010B/HL3KHDMXX/L001/FD_AH_001_010B_L001_index_1_001.fastq.gz\n",
      "FDAH/FD_AH_001_010B/HL3KHDMXX/L001/FD_AH_001_010B_L001_R1_001.fastq.gz\n",
      "FDAH/FD_AH_001_010B/HL3KHDMXX/L001/FD_AH_001_010B_L001_R2_001.fastq.gz\n",
      "FDAH/FD_AH_001_010B/HL3KHDMXX/L001/FD_AH_001_010B_L001_barcode_1_001.fastq.gz\n"
     ]
    }
   ],
   "source": [
    "for file in fastq_list:\n",
    "    print(file)"
   ]
  },
  {
   "cell_type": "code",
   "execution_count": 88,
   "metadata": {
    "ExecuteTime": {
     "end_time": "2019-09-20T10:12:18.358618Z",
     "start_time": "2019-09-20T10:12:18.353212Z"
    }
   },
   "outputs": [],
   "source": [
    "def get_fastq_paths(row):\n",
    "    for file in fastq_list:\n",
    "        if row['sample'] in file:\n",
    "            if 'index' in file:\n",
    "                row['index'] = file\n",
    "            elif 'barcode' in file:\n",
    "                row['barcode'] = file\n",
    "            elif '_R1' in file:\n",
    "                row['R1'] = file\n",
    "            elif '_R2' in file:\n",
    "                row['R2'] = file\n",
    "    return row[['name', 'Lane', 'R1', 'R2', 'barcode', 'index']]"
   ]
  },
  {
   "cell_type": "markdown",
   "metadata": {},
   "source": [
    "### populate sample sheet with fastq paths"
   ]
  },
  {
   "cell_type": "code",
   "execution_count": 89,
   "metadata": {
    "ExecuteTime": {
     "end_time": "2019-09-20T10:12:19.808196Z",
     "start_time": "2019-09-20T10:12:19.722367Z"
    }
   },
   "outputs": [
    {
     "data": {
      "text/html": [
       "<div>\n",
       "<style scoped>\n",
       "    .dataframe tbody tr th:only-of-type {\n",
       "        vertical-align: middle;\n",
       "    }\n",
       "\n",
       "    .dataframe tbody tr th {\n",
       "        vertical-align: top;\n",
       "    }\n",
       "\n",
       "    .dataframe thead th {\n",
       "        text-align: right;\n",
       "    }\n",
       "</style>\n",
       "<table border=\"1\" class=\"dataframe\">\n",
       "  <thead>\n",
       "    <tr style=\"text-align: right;\">\n",
       "      <th></th>\n",
       "      <th>name</th>\n",
       "      <th>Lane</th>\n",
       "      <th>R1</th>\n",
       "      <th>R2</th>\n",
       "      <th>barcode</th>\n",
       "      <th>index</th>\n",
       "    </tr>\n",
       "  </thead>\n",
       "  <tbody>\n",
       "    <tr>\n",
       "      <td>16</td>\n",
       "      <td>008_A</td>\n",
       "      <td>2</td>\n",
       "      <td>FDAH/FD_AH_002_008A/HL3KHDMXX/L002/FD_AH_002_008A_L002_R1_001.fastq.gz</td>\n",
       "      <td>FDAH/FD_AH_002_008A/HL3KHDMXX/L002/FD_AH_002_008A_L002_R2_001.fastq.gz</td>\n",
       "      <td>FDAH/FD_AH_002_008A/HL3KHDMXX/L002/FD_AH_002_008A_L002_barcode_1_001.fastq.gz</td>\n",
       "      <td>FDAH/FD_AH_002_008A/HL3KHDMXX/L002/FD_AH_002_008A_L002_index_1_001.fastq.gz</td>\n",
       "    </tr>\n",
       "    <tr>\n",
       "      <td>17</td>\n",
       "      <td>008_B</td>\n",
       "      <td>2</td>\n",
       "      <td>FDAH/FD_AH_002_008B/HL3KHDMXX/L002/FD_AH_002_008B_L002_R1_001.fastq.gz</td>\n",
       "      <td>FDAH/FD_AH_002_008B/HL3KHDMXX/L002/FD_AH_002_008B_L002_R2_001.fastq.gz</td>\n",
       "      <td>FDAH/FD_AH_002_008B/HL3KHDMXX/L002/FD_AH_002_008B_L002_barcode_1_001.fastq.gz</td>\n",
       "      <td>FDAH/FD_AH_002_008B/HL3KHDMXX/L002/FD_AH_002_008B_L002_index_1_001.fastq.gz</td>\n",
       "    </tr>\n",
       "    <tr>\n",
       "      <td>18</td>\n",
       "      <td>009_A</td>\n",
       "      <td>2</td>\n",
       "      <td>FDAH/FD_AH_002_009A/HL3KHDMXX/L002/FD_AH_002_009A_L002_R1_001.fastq.gz</td>\n",
       "      <td>FDAH/FD_AH_002_009A/HL3KHDMXX/L002/FD_AH_002_009A_L002_R2_001.fastq.gz</td>\n",
       "      <td>FDAH/FD_AH_002_009A/HL3KHDMXX/L002/FD_AH_002_009A_L002_barcode_1_001.fastq.gz</td>\n",
       "      <td>FDAH/FD_AH_002_009A/HL3KHDMXX/L002/FD_AH_002_009A_L002_index_1_001.fastq.gz</td>\n",
       "    </tr>\n",
       "    <tr>\n",
       "      <td>19</td>\n",
       "      <td>009_B</td>\n",
       "      <td>2</td>\n",
       "      <td>FDAH/FD_AH_002_009B/HL3KHDMXX/L002/FD_AH_002_009B_L002_R1_001.fastq.gz</td>\n",
       "      <td>FDAH/FD_AH_002_009B/HL3KHDMXX/L002/FD_AH_002_009B_L002_R2_001.fastq.gz</td>\n",
       "      <td>FDAH/FD_AH_002_009B/HL3KHDMXX/L002/FD_AH_002_009B_L002_barcode_1_001.fastq.gz</td>\n",
       "      <td>FDAH/FD_AH_002_009B/HL3KHDMXX/L002/FD_AH_002_009B_L002_index_1_001.fastq.gz</td>\n",
       "    </tr>\n",
       "    <tr>\n",
       "      <td>20</td>\n",
       "      <td>011_A</td>\n",
       "      <td>2</td>\n",
       "      <td>FDAH/FD_AH_002_011A/HL3KHDMXX/L002/FD_AH_002_011A_L002_R1_001.fastq.gz</td>\n",
       "      <td>FDAH/FD_AH_002_011A/HL3KHDMXX/L002/FD_AH_002_011A_L002_R2_001.fastq.gz</td>\n",
       "      <td>FDAH/FD_AH_002_011A/HL3KHDMXX/L002/FD_AH_002_011A_L002_barcode_1_001.fastq.gz</td>\n",
       "      <td>FDAH/FD_AH_002_011A/HL3KHDMXX/L002/FD_AH_002_011A_L002_index_1_001.fastq.gz</td>\n",
       "    </tr>\n",
       "  </tbody>\n",
       "</table>\n",
       "</div>"
      ],
      "text/plain": [
       "     name  Lane  \\\n",
       "16  008_A     2   \n",
       "17  008_B     2   \n",
       "18  009_A     2   \n",
       "19  009_B     2   \n",
       "20  011_A     2   \n",
       "\n",
       "                                                                        R1  \\\n",
       "16  FDAH/FD_AH_002_008A/HL3KHDMXX/L002/FD_AH_002_008A_L002_R1_001.fastq.gz   \n",
       "17  FDAH/FD_AH_002_008B/HL3KHDMXX/L002/FD_AH_002_008B_L002_R1_001.fastq.gz   \n",
       "18  FDAH/FD_AH_002_009A/HL3KHDMXX/L002/FD_AH_002_009A_L002_R1_001.fastq.gz   \n",
       "19  FDAH/FD_AH_002_009B/HL3KHDMXX/L002/FD_AH_002_009B_L002_R1_001.fastq.gz   \n",
       "20  FDAH/FD_AH_002_011A/HL3KHDMXX/L002/FD_AH_002_011A_L002_R1_001.fastq.gz   \n",
       "\n",
       "                                                                        R2  \\\n",
       "16  FDAH/FD_AH_002_008A/HL3KHDMXX/L002/FD_AH_002_008A_L002_R2_001.fastq.gz   \n",
       "17  FDAH/FD_AH_002_008B/HL3KHDMXX/L002/FD_AH_002_008B_L002_R2_001.fastq.gz   \n",
       "18  FDAH/FD_AH_002_009A/HL3KHDMXX/L002/FD_AH_002_009A_L002_R2_001.fastq.gz   \n",
       "19  FDAH/FD_AH_002_009B/HL3KHDMXX/L002/FD_AH_002_009B_L002_R2_001.fastq.gz   \n",
       "20  FDAH/FD_AH_002_011A/HL3KHDMXX/L002/FD_AH_002_011A_L002_R2_001.fastq.gz   \n",
       "\n",
       "                                                                          barcode  \\\n",
       "16  FDAH/FD_AH_002_008A/HL3KHDMXX/L002/FD_AH_002_008A_L002_barcode_1_001.fastq.gz   \n",
       "17  FDAH/FD_AH_002_008B/HL3KHDMXX/L002/FD_AH_002_008B_L002_barcode_1_001.fastq.gz   \n",
       "18  FDAH/FD_AH_002_009A/HL3KHDMXX/L002/FD_AH_002_009A_L002_barcode_1_001.fastq.gz   \n",
       "19  FDAH/FD_AH_002_009B/HL3KHDMXX/L002/FD_AH_002_009B_L002_barcode_1_001.fastq.gz   \n",
       "20  FDAH/FD_AH_002_011A/HL3KHDMXX/L002/FD_AH_002_011A_L002_barcode_1_001.fastq.gz   \n",
       "\n",
       "                                                                          index  \n",
       "16  FDAH/FD_AH_002_008A/HL3KHDMXX/L002/FD_AH_002_008A_L002_index_1_001.fastq.gz  \n",
       "17  FDAH/FD_AH_002_008B/HL3KHDMXX/L002/FD_AH_002_008B_L002_index_1_001.fastq.gz  \n",
       "18  FDAH/FD_AH_002_009A/HL3KHDMXX/L002/FD_AH_002_009A_L002_index_1_001.fastq.gz  \n",
       "19  FDAH/FD_AH_002_009B/HL3KHDMXX/L002/FD_AH_002_009B_L002_index_1_001.fastq.gz  \n",
       "20  FDAH/FD_AH_002_011A/HL3KHDMXX/L002/FD_AH_002_011A_L002_index_1_001.fastq.gz  "
      ]
     },
     "execution_count": 89,
     "metadata": {},
     "output_type": "execute_result"
    }
   ],
   "source": [
    "samples = samples.apply(get_fastq_paths, axis=1)\n",
    "samples[:5]"
   ]
  },
  {
   "cell_type": "markdown",
   "metadata": {},
   "source": [
    "## get tumor-normal-pairs"
   ]
  },
  {
   "cell_type": "code",
   "execution_count": 95,
   "metadata": {
    "ExecuteTime": {
     "end_time": "2019-09-20T10:13:50.951759Z",
     "start_time": "2019-09-20T10:13:50.945875Z"
    }
   },
   "outputs": [],
   "source": [
    "def get_tumor_normal_pairs(samples):\n",
    "    '''\n",
    "    turns valid_file_info into tuples of valid tumor normal pairs\n",
    "    '''\n",
    "\n",
    "    # extract the tumor-normal suffix\n",
    "    samples[['sample', 'TN']] = samples['name'].str.extract('(?P<sample>^[^_]+)_(?P<TN>[^_]+)$')\n",
    "    tumor = 'A'\n",
    "    normal = 'B'\n",
    "\n",
    "    def TN_pair(group):\n",
    "        print(group['name'])\n",
    "        if tumor in list(group['TN']) and normal in list(group['TN']):\n",
    "            return f\"{group['sample'][0]}_{tumor}-{normal}\"\n",
    "        \n",
    "    TN_df = pd.DataFrame()\n",
    "    TN_df['pairs'] = samples.groupby('sample').apply(TN_pair)\n",
    "    return list(TN_df['pairs'])"
   ]
  },
  {
   "cell_type": "code",
   "execution_count": 102,
   "metadata": {
    "ExecuteTime": {
     "end_time": "2019-09-20T10:16:45.906557Z",
     "start_time": "2019-09-20T10:16:45.891040Z"
    }
   },
   "outputs": [
    {
     "data": {
      "text/plain": [
       "sample    \n",
       "008     16    008_A\n",
       "        17    008_B\n",
       "009     18    009_A\n",
       "        19    009_B\n",
       "011     20    011_A\n",
       "        21    011_B\n",
       "012     22    012_A\n",
       "        23    012_B\n",
       "013     24    013_A\n",
       "        25    013_B\n",
       "014     26    014_A\n",
       "        27    014_B\n",
       "015     28    015_A\n",
       "        29    015_B\n",
       "016     30    016_A\n",
       "        31    016_B\n",
       "Name: name, dtype: object"
      ]
     },
     "execution_count": 102,
     "metadata": {},
     "output_type": "execute_result"
    }
   ],
   "source": [
    "def TN_pair(group):\n",
    "    print(group['name'])\n",
    "    if tumor in list(group['TN']) and normal in list(group['TN']):\n",
    "        return f\"{group['sample'][0]}_{tumor}-{normal}\"\n",
    "    \n",
    "samples.groupby('sample').apply(lambda df: df['name'])"
   ]
  },
  {
   "cell_type": "markdown",
   "metadata": {
    "ExecuteTime": {
     "end_time": "2019-09-19T15:40:40.286725Z",
     "start_time": "2019-09-19T15:40:40.271303Z"
    }
   },
   "source": [
    "### get sample-type list for multiqc"
   ]
  },
  {
   "cell_type": "code",
   "execution_count": 40,
   "metadata": {
    "ExecuteTime": {
     "end_time": "2019-09-20T06:30:44.173599Z",
     "start_time": "2019-09-20T06:30:44.168238Z"
    }
   },
   "outputs": [],
   "source": [
    "def get_fastqc_list():\n",
    "    fastqc_list = []\n",
    "    trim_suffix = 'TRIM'\n",
    "    # create file list from the included_files tuple list\n",
    "    read1 = 'R1'\n",
    "    read2 = 'R2'\n",
    "    trim_suffix = 'TRIM'\n",
    "    for file_name in samples['name']:\n",
    "        fastqc_list.append(f\"fastQC/{file_name}_{read1}_fastqc.zip\")\n",
    "        fastqc_list.append(f\"fastQC/{file_name}_{read2}_fastqc.zip\")\n",
    "        if True: # config['trim']['trimming']:\n",
    "            fastqc_list.append(f\"fastQC/{file_name}_{read1}.{trim_suffix}_fastqc.zip\")\n",
    "            fastqc_list.append(f\"fastQC/{file_name}_{read2}.{trim_suffix}_fastqc.zip\")\n",
    "    return fastqc_list"
   ]
  },
  {
   "cell_type": "code",
   "execution_count": 41,
   "metadata": {
    "ExecuteTime": {
     "end_time": "2019-09-20T06:30:44.741258Z",
     "start_time": "2019-09-20T06:30:44.736605Z"
    }
   },
   "outputs": [
    {
     "data": {
      "text/plain": [
       "['fastQC/test_A_R1_fastqc.zip',\n",
       " 'fastQC/test_A_R2_fastqc.zip',\n",
       " 'fastQC/test_A_R1.TRIM_fastqc.zip',\n",
       " 'fastQC/test_A_R2.TRIM_fastqc.zip',\n",
       " 'fastQC/test_B_R1_fastqc.zip',\n",
       " 'fastQC/test_B_R2_fastqc.zip',\n",
       " 'fastQC/test_B_R1.TRIM_fastqc.zip',\n",
       " 'fastQC/test_B_R2.TRIM_fastqc.zip']"
      ]
     },
     "execution_count": 41,
     "metadata": {},
     "output_type": "execute_result"
    }
   ],
   "source": [
    "get_fastqc_list()"
   ]
  },
  {
   "cell_type": "code",
   "execution_count": null,
   "metadata": {},
   "outputs": [],
   "source": []
  }
 ],
 "metadata": {
  "kernelspec": {
   "display_name": "Python 3",
   "language": "python",
   "name": "python3"
  },
  "language_info": {
   "codemirror_mode": {
    "name": "ipython",
    "version": 3
   },
   "file_extension": ".py",
   "mimetype": "text/x-python",
   "name": "python",
   "nbconvert_exporter": "python",
   "pygments_lexer": "ipython3",
   "version": "3.7.3"
  },
  "varInspector": {
   "cols": {
    "lenName": 16,
    "lenType": 16,
    "lenVar": 40
   },
   "kernels_config": {
    "python": {
     "delete_cmd_postfix": "",
     "delete_cmd_prefix": "del ",
     "library": "var_list.py",
     "varRefreshCmd": "print(var_dic_list())"
    },
    "r": {
     "delete_cmd_postfix": ") ",
     "delete_cmd_prefix": "rm(",
     "library": "var_list.r",
     "varRefreshCmd": "cat(var_dic_list()) "
    }
   },
   "types_to_exclude": [
    "module",
    "function",
    "builtin_function_or_method",
    "instance",
    "_Feature"
   ],
   "window_display": false
  }
 },
 "nbformat": 4,
 "nbformat_minor": 2
}
