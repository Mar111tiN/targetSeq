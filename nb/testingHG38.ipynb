{
 "cells": [
  {
   "cell_type": "code",
   "execution_count": 8,
   "metadata": {
    "ExecuteTime": {
     "end_time": "2019-09-10T05:09:33.819724Z",
     "start_time": "2019-09-10T05:09:33.816706Z"
    }
   },
   "outputs": [],
   "source": [
    "import yaml\n",
    "import os\n",
    "config = yaml.load(open('configs/config.yaml'))\n",
    "def full_path(file):\n",
    "\n",
    "    '''\n",
    "    returns the full path to a reference\n",
    "    '''\n",
    "\n",
    "    build = config['ref']['build']\n",
    "    full_ref_path = os.path.join(config['paths']['mystatic'], config['ref'][build][file])\n",
    "    return full_ref_path"
   ]
  },
  {
   "cell_type": "markdown",
   "metadata": {},
   "source": [
    "### get_bed_file"
   ]
  },
  {
   "cell_type": "code",
   "execution_count": 26,
   "metadata": {
    "ExecuteTime": {
     "end_time": "2019-09-10T05:24:42.848803Z",
     "start_time": "2019-09-10T05:24:42.841681Z"
    }
   },
   "outputs": [
    {
     "data": {
      "text/plain": [
       "'/fast/groups/ag_damm/work/ref/bed_files/SureSelect/hg38/SS_HAEv7_hg38_Padded.bed'"
      ]
     },
     "execution_count": 26,
     "metadata": {},
     "output_type": "execute_result"
    }
   ],
   "source": [
    "def get_bed_file(config, covered_or_padded):\n",
    "    '''\n",
    "    returns the appropriate bed_file depending on build and library\n",
    "    '''\n",
    "    \n",
    "    build = config['ref']['build']\n",
    "    lib = config['setup']['library']\n",
    "    lib_version = config['setup']['library_version']\n",
    "    prefix = 'SS' if lib == 'SureSelect' else lib\n",
    "    suffix = '_nochr' if build == 'hg19' else ''\n",
    "    bed_name = f\"{prefix}_{lib_version}_{build}_{covered_or_padded}{suffix}.bed\"\n",
    "    bed_file = os.path.join(config['paths']['mystatic'], 'bed_files', lib, build,bed_name)\n",
    "    return bed_file\n",
    "\n",
    "get_bed_file(config, 'Padded')"
   ]
  },
  {
   "cell_type": "markdown",
   "metadata": {},
   "source": [
    "### filter annovar protocol"
   ]
  },
  {
   "cell_type": "code",
   "execution_count": 61,
   "metadata": {
    "ExecuteTime": {
     "end_time": "2019-09-10T08:53:44.034808Z",
     "start_time": "2019-09-10T08:53:44.022588Z"
    }
   },
   "outputs": [
    {
     "data": {
      "text/plain": [
       "['genomicSuperDups',\n",
       " 'esp6500_all',\n",
       " '1000g2010nov_all',\n",
       " '1000g2014oct_all',\n",
       " 'snp131',\n",
       " 'snp131NonFlagged',\n",
       " 'snp138',\n",
       " 'snp138NonFlagged',\n",
       " 'avsnp138',\n",
       " 'ljb23_pp2hdiv',\n",
       " 'ljb23_sift',\n",
       " 'spidex',\n",
       " 'icgc21']"
      ]
     },
     "execution_count": 61,
     "metadata": {},
     "output_type": "execute_result"
    },
    {
     "data": {
      "text/plain": [
       "'refGene,cytoBand,esp6500siv2_all,dbscsnv11,avsnp150,cosmic70,clinvar_20150629,clinvar_20170905,clinvar_20190305,ljb26_all'"
      ]
     },
     "execution_count": 61,
     "metadata": {},
     "output_type": "execute_result"
    },
    {
     "data": {
      "text/plain": [
       "'g,r,f,f,f,f,f,f,f,f'"
      ]
     },
     "execution_count": 61,
     "metadata": {},
     "output_type": "execute_result"
    }
   ],
   "source": [
    "# reduce list\n",
    "build_files = []\n",
    "for file in file_list:\n",
    "    if build in file:\n",
    "        build_files.append(file)\n",
    "        \n",
    "anno_list = []\n",
    "missing = []\n",
    "for anno in anno_refs:\n",
    "    for file in build_files:\n",
    "        if anno in file:\n",
    "            anno_list.append(anno)\n",
    "            break\n",
    "    else:\n",
    "        missing.append(anno)\n",
    "protocol = ','.join(anno_list)\n",
    "\n",
    "operation_list = []\n",
    "for anno in anno_list:\n",
    "    if anno == \"refGene\":\n",
    "        operation_list.append('g')\n",
    "    elif anno in ['cytoBand', 'genomicSuperDups']:\n",
    "        operation_list.append('r')\n",
    "    else:\n",
    "        operation_list.append('f')\n",
    "operation = ','.join(operation_list)\n",
    "\n",
    "missing\n",
    "protocol\n",
    "operation\n",
    "\n",
    "# build_files"
   ]
  },
  {
   "cell_type": "markdown",
   "metadata": {},
   "source": [
    "### filter"
   ]
  },
  {
   "cell_type": "code",
   "execution_count": 68,
   "metadata": {
    "ExecuteTime": {
     "end_time": "2019-09-10T08:57:09.460659Z",
     "start_time": "2019-09-10T08:57:09.455996Z"
    }
   },
   "outputs": [],
   "source": [
    "filter_name = 'daniel'\n",
    "filter_config = config['filter'][filter_name]\n",
    "def get_filter(f):\n",
    "    '''\n",
    "    takes the filter dictionary and returns full path to the filter script using filter['name']\n",
    "    '''\n",
    "\n",
    "    return os.path.join(config['snakedir'], config['paths']['scripts'], 'filters', f['path'])\n",
    "filter_config"
   ]
  },
  {
   "cell_type": "code",
   "execution_count": 70,
   "metadata": {
    "ExecuteTime": {
     "end_time": "2019-09-10T08:57:27.816020Z",
     "start_time": "2019-09-10T08:57:27.811766Z"
    }
   },
   "outputs": [
    {
     "data": {
      "text/plain": [
       "'/fast/users/szyskam_c/snakes/projects/AML/scripts/filters/daniel.py'"
      ]
     },
     "execution_count": 70,
     "metadata": {},
     "output_type": "execute_result"
    }
   ],
   "source": [
    "filter_script = get_filter(filter_config)\n",
    "filter_script"
   ]
  },
  {
   "cell_type": "code",
   "execution_count": 78,
   "metadata": {
    "ExecuteTime": {
     "end_time": "2019-09-10T09:03:51.976098Z",
     "start_time": "2019-09-10T09:03:51.971216Z"
    }
   },
   "outputs": [
    {
     "data": {
      "text/plain": [
       "[['-TM2_limit', '4']]"
      ]
     },
     "execution_count": 78,
     "metadata": {},
     "output_type": "execute_result"
    }
   ],
   "source": [
    "[[f\"-{param}\", f\"{val}\"] for param, val in filter_config['params'].items()]"
   ]
  },
  {
   "cell_type": "code",
   "execution_count": 71,
   "metadata": {
    "ExecuteTime": {
     "end_time": "2019-09-10T08:59:02.495304Z",
     "start_time": "2019-09-10T08:59:02.489851Z"
    }
   },
   "outputs": [
    {
     "data": {
      "text/plain": [
       "['-TM2_limit', '4']"
      ]
     },
     "execution_count": 71,
     "metadata": {},
     "output_type": "execute_result"
    }
   ],
   "source": [
    "params_list = [param for plist in [[f\"-{param}\", f\"{val}\"] for param, val in filter_config['params'].items()] for param in plist]\n",
    "params_list"
   ]
  },
  {
   "cell_type": "code",
   "execution_count": 73,
   "metadata": {
    "ExecuteTime": {
     "end_time": "2019-09-10T08:59:35.218921Z",
     "start_time": "2019-09-10T08:59:35.216260Z"
    }
   },
   "outputs": [],
   "source": [
    "filter_cmd = [filter_script, *params_list, 'input_file', 'output']"
   ]
  },
  {
   "cell_type": "code",
   "execution_count": 75,
   "metadata": {
    "ExecuteTime": {
     "end_time": "2019-09-10T09:00:04.108765Z",
     "start_time": "2019-09-10T09:00:04.104072Z"
    }
   },
   "outputs": [
    {
     "name": "stdout",
     "output_type": "stream",
     "text": [
      "/fast/users/szyskam_c/snakes/projects/AML/scripts/filters/daniel.py -TM2_limit 4 input_file output\n"
     ]
    }
   ],
   "source": [
    "print(f\" \".join(filter_cmd))"
   ]
  },
  {
   "cell_type": "code",
   "execution_count": null,
   "metadata": {},
   "outputs": [],
   "source": []
  }
 ],
 "metadata": {
  "kernelspec": {
   "display_name": "Python 3",
   "language": "python",
   "name": "python3"
  },
  "language_info": {
   "codemirror_mode": {
    "name": "ipython",
    "version": 3
   },
   "file_extension": ".py",
   "mimetype": "text/x-python",
   "name": "python",
   "nbconvert_exporter": "python",
   "pygments_lexer": "ipython3",
   "version": "3.7.3"
  },
  "varInspector": {
   "cols": {
    "lenName": 16,
    "lenType": 16,
    "lenVar": 40
   },
   "kernels_config": {
    "python": {
     "delete_cmd_postfix": "",
     "delete_cmd_prefix": "del ",
     "library": "var_list.py",
     "varRefreshCmd": "print(var_dic_list())"
    },
    "r": {
     "delete_cmd_postfix": ") ",
     "delete_cmd_prefix": "rm(",
     "library": "var_list.r",
     "varRefreshCmd": "cat(var_dic_list()) "
    }
   },
   "types_to_exclude": [
    "module",
    "function",
    "builtin_function_or_method",
    "instance",
    "_Feature"
   ],
   "window_display": false
  }
 },
 "nbformat": 4,
 "nbformat_minor": 2
}
